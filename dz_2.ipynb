{
 "cells": [
  {
   "cell_type": "markdown",
   "metadata": {},
   "source": [
    "Вероятность того, что стрелок попадет в мишень, выстрелив один раз, равна 0.8. Стрелок выстрелил 100 раз. Найдите вероятность того, что стрелок попадет в цель ровно 85 раз."
   ]
  },
  {
   "cell_type": "code",
   "execution_count": 1,
   "metadata": {},
   "outputs": [],
   "source": [
    "from math import factorial as fl\n",
    "import numpy as np"
   ]
  },
  {
   "cell_type": "code",
   "execution_count": 2,
   "metadata": {},
   "outputs": [],
   "source": [
    "# сочетания\n",
    "def combinations(k, n):\n",
    "    return fl(n) / (fl(k) * fl(n - k))\n",
    "\n",
    "#Формула Бернулли\n",
    "def fB(k, n, p):\n",
    "    q = 1 - p\n",
    "    return combinations(k, n) * p**k * q**(n - k)\n",
    "\n",
    "#формула Пуассона\n",
    "def fP(m, n, p):\n",
    "    lambda_ = n * p\n",
    "    return (lambda_**m / fl(m)) * np.exp(-lambda_)"
   ]
  },
  {
   "cell_type": "code",
   "execution_count": 4,
   "metadata": {},
   "outputs": [],
   "source": [
    "n = 100\n",
    "k = 85\n",
    "p = 0.8\n",
    "\n",
    "  "
   ]
  },
  {
   "cell_type": "code",
   "execution_count": 5,
   "metadata": {},
   "outputs": [
    {
     "data": {
      "text/plain": [
       "0.048061793700746355"
      ]
     },
     "execution_count": 5,
     "metadata": {},
     "output_type": "execute_result"
    }
   ],
   "source": [
    "fB(k, n, p)"
   ]
  },
  {
   "cell_type": "markdown",
   "metadata": {},
   "source": [
    "2.Вероятность того, что лампочка перегорит в течение первого дня эксплуатации, равна 0.0004. В жилом комплексе после ремонта в один день включили 5000 новых лампочек. Какова вероятность, что ни одна из них не перегорит в первый день? "
   ]
  },
  {
   "cell_type": "code",
   "execution_count": 6,
   "metadata": {},
   "outputs": [
    {
     "data": {
      "text/plain": [
       "0.13528114551440706"
      ]
     },
     "execution_count": 6,
     "metadata": {},
     "output_type": "execute_result"
    }
   ],
   "source": [
    "n = 5000\n",
    "p = 0.0004\n",
    "m = 0\n",
    "fB(m, n, p)"
   ]
  },
  {
   "cell_type": "markdown",
   "metadata": {},
   "source": [
    "Какова вероятность, что перегорят ровно две?"
   ]
  },
  {
   "cell_type": "code",
   "execution_count": 7,
   "metadata": {},
   "outputs": [
    {
     "data": {
      "text/plain": [
       "0.2707247150266753"
      ]
     },
     "execution_count": 7,
     "metadata": {},
     "output_type": "execute_result"
    }
   ],
   "source": [
    "m = 2\n",
    "fB(m, n, p)"
   ]
  },
  {
   "cell_type": "markdown",
   "metadata": {},
   "source": [
    "Монету подбросили 144 раза. Какова вероятность, что орел выпадет ровно 70 раз?"
   ]
  },
  {
   "cell_type": "code",
   "execution_count": 8,
   "metadata": {},
   "outputs": [
    {
     "data": {
      "text/plain": [
       "0.06281178035144776"
      ]
     },
     "execution_count": 8,
     "metadata": {},
     "output_type": "execute_result"
    }
   ],
   "source": [
    "n = 144\n",
    "k = 70\n",
    "p = 0.5\n",
    "fB(k, n, p)"
   ]
  },
  {
   "cell_type": "markdown",
   "metadata": {},
   "source": [
    "В первом ящике находится 10 мячей, из которых 7 - белые. Во втором ящике - 11 мячей, из которых 9 белых. Из каждого ящика вытаскивают случайным образом по два мяча. Какова вероятность того, что все мячи белые? "
   ]
  },
  {
   "cell_type": "code",
   "execution_count": 9,
   "metadata": {},
   "outputs": [
    {
     "data": {
      "text/plain": [
       "0.3054545454545455"
      ]
     },
     "execution_count": 9,
     "metadata": {},
     "output_type": "execute_result"
    }
   ],
   "source": [
    "combinations(2, 7) / combinations(2, 10) * combinations(2, 9) / combinations(2, 11)"
   ]
  },
  {
   "cell_type": "markdown",
   "metadata": {},
   "source": [
    "Какова вероятность того, что хотя бы один мяч белый?"
   ]
  },
  {
   "cell_type": "code",
   "execution_count": 1,
   "metadata": {},
   "outputs": [
    {
     "ename": "NameError",
     "evalue": "name 'combinations' is not defined",
     "output_type": "error",
     "traceback": [
      "\u001b[1;31m---------------------------------------------------------------------------\u001b[0m",
      "\u001b[1;31mNameError\u001b[0m                                 Traceback (most recent call last)",
      "\u001b[1;32md:\\обучение\\proect\\matstat\\Probability_theory_-_statistics-s--1\\dz_2.ipynb Ячейка 15\u001b[0m in \u001b[0;36m<cell line: 1>\u001b[1;34m()\u001b[0m\n\u001b[1;32m----> <a href='vscode-notebook-cell:/d%3A/%D0%BE%D0%B1%D1%83%D1%87%D0%B5%D0%BD%D0%B8%D0%B5/proect/matstat/Probability_theory_-_statistics-s--1/dz_2.ipynb#X20sZmlsZQ%3D%3D?line=0'>1</a>\u001b[0m \u001b[39m1\u001b[39m\u001b[39m-\u001b[39mcombinations(\u001b[39m2\u001b[39m, \u001b[39m7\u001b[39m) \u001b[39m/\u001b[39m combinations(\u001b[39m2\u001b[39m, \u001b[39m10\u001b[39m) \u001b[39m*\u001b[39m combinations(\u001b[39m2\u001b[39m, \u001b[39m9\u001b[39m) \u001b[39m/\u001b[39m combinations(\u001b[39m2\u001b[39m, \u001b[39m11\u001b[39m)\n",
      "\u001b[1;31mNameError\u001b[0m: name 'combinations' is not defined"
     ]
    }
   ],
   "source": [
    "1-combinations(2, 7) / combinations(2, 10) * combinations(2, 9) / combinations(2, 11)"
   ]
  },
  {
   "cell_type": "markdown",
   "metadata": {},
   "source": [
    "Какова вероятность того, что ровно два мяча белые? "
   ]
  },
  {
   "cell_type": "code",
   "execution_count": 11,
   "metadata": {},
   "outputs": [
    {
     "ename": "ValueError",
     "evalue": "factorial() not defined for negative values",
     "output_type": "error",
     "traceback": [
      "\u001b[1;31m---------------------------------------------------------------------------\u001b[0m",
      "\u001b[1;31mValueError\u001b[0m                                Traceback (most recent call last)",
      "\u001b[1;32md:\\обучение\\proect\\matstat\\Probability_theory_-_statistics-s--1\\dz_2.ipynb Ячейка 17\u001b[0m in \u001b[0;36m<cell line: 1>\u001b[1;34m()\u001b[0m\n\u001b[1;32m----> <a href='vscode-notebook-cell:/d%3A/%D0%BE%D0%B1%D1%83%D1%87%D0%B5%D0%BD%D0%B8%D0%B5/proect/matstat/Probability_theory_-_statistics-s--1/dz_2.ipynb#X22sZmlsZQ%3D%3D?line=0'>1</a>\u001b[0m p1 \u001b[39m=\u001b[39m combinations(\u001b[39m7\u001b[39;49m, \u001b[39m2\u001b[39;49m) \u001b[39m/\u001b[39m combinations(\u001b[39m10\u001b[39m, \u001b[39m2\u001b[39m) \u001b[39m*\u001b[39m combinations(\u001b[39m2\u001b[39m, \u001b[39m2\u001b[39m) \u001b[39m/\u001b[39m combinations(\u001b[39m11\u001b[39m, \u001b[39m2\u001b[39m)\n\u001b[0;32m      <a href='vscode-notebook-cell:/d%3A/%D0%BE%D0%B1%D1%83%D1%87%D0%B5%D0%BD%D0%B8%D0%B5/proect/matstat/Probability_theory_-_statistics-s--1/dz_2.ipynb#X22sZmlsZQ%3D%3D?line=1'>2</a>\u001b[0m p1\n",
      "\u001b[1;32md:\\обучение\\proect\\matstat\\Probability_theory_-_statistics-s--1\\dz_2.ipynb Ячейка 17\u001b[0m in \u001b[0;36mcombinations\u001b[1;34m(k, n)\u001b[0m\n\u001b[0;32m      <a href='vscode-notebook-cell:/d%3A/%D0%BE%D0%B1%D1%83%D1%87%D0%B5%D0%BD%D0%B8%D0%B5/proect/matstat/Probability_theory_-_statistics-s--1/dz_2.ipynb#X22sZmlsZQ%3D%3D?line=1'>2</a>\u001b[0m \u001b[39mdef\u001b[39;00m \u001b[39mcombinations\u001b[39m(k, n):\n\u001b[1;32m----> <a href='vscode-notebook-cell:/d%3A/%D0%BE%D0%B1%D1%83%D1%87%D0%B5%D0%BD%D0%B8%D0%B5/proect/matstat/Probability_theory_-_statistics-s--1/dz_2.ipynb#X22sZmlsZQ%3D%3D?line=2'>3</a>\u001b[0m     \u001b[39mreturn\u001b[39;00m fl(n) \u001b[39m/\u001b[39m (fl(k) \u001b[39m*\u001b[39m fl(n \u001b[39m-\u001b[39;49m k))\n",
      "\u001b[1;31mValueError\u001b[0m: factorial() not defined for negative values"
     ]
    }
   ],
   "source": [
    "p1 = combinations(7, 2) / combinations(10, 2) * combinations(2, 2) / combinations(11, 2)\n",
    "p1\n"
   ]
  },
  {
   "cell_type": "code",
   "execution_count": 55,
   "metadata": {},
   "outputs": [
    {
     "ename": "TypeError",
     "evalue": "factorial() missing 2 required positional arguments: 'n' and 'p'",
     "output_type": "error",
     "traceback": [
      "\u001b[1;31m---------------------------------------------------------------------------\u001b[0m",
      "\u001b[1;31mTypeError\u001b[0m                                 Traceback (most recent call last)",
      "\u001b[1;32md:\\обучение\\proect\\matstat\\Probability_theory_-_statistics-s--1\\dz_2.ipynb Ячейка 18\u001b[0m in \u001b[0;36m<cell line: 1>\u001b[1;34m()\u001b[0m\n\u001b[1;32m----> <a href='vscode-notebook-cell:/d%3A/%D0%BE%D0%B1%D1%83%D1%87%D0%B5%D0%BD%D0%B8%D0%B5/proect/matstat/Probability_theory_-_statistics-s--1/dz_2.ipynb#X23sZmlsZQ%3D%3D?line=0'>1</a>\u001b[0m p2 \u001b[39m=\u001b[39m combinations(\u001b[39m3\u001b[39;49m, \u001b[39m2\u001b[39;49m) \u001b[39m/\u001b[39m combinations(\u001b[39m10\u001b[39m, \u001b[39m2\u001b[39m) \u001b[39m*\u001b[39m combinations(\u001b[39m9\u001b[39m, \u001b[39m2\u001b[39m) \u001b[39m/\u001b[39m combinations(\u001b[39m11\u001b[39m, \u001b[39m2\u001b[39m)\n\u001b[0;32m      <a href='vscode-notebook-cell:/d%3A/%D0%BE%D0%B1%D1%83%D1%87%D0%B5%D0%BD%D0%B8%D0%B5/proect/matstat/Probability_theory_-_statistics-s--1/dz_2.ipynb#X23sZmlsZQ%3D%3D?line=1'>2</a>\u001b[0m p2\n",
      "\u001b[1;32md:\\обучение\\proect\\matstat\\Probability_theory_-_statistics-s--1\\dz_2.ipynb Ячейка 18\u001b[0m in \u001b[0;36mcombinations\u001b[1;34m(n, k)\u001b[0m\n\u001b[0;32m      <a href='vscode-notebook-cell:/d%3A/%D0%BE%D0%B1%D1%83%D1%87%D0%B5%D0%BD%D0%B8%D0%B5/proect/matstat/Probability_theory_-_statistics-s--1/dz_2.ipynb#X23sZmlsZQ%3D%3D?line=1'>2</a>\u001b[0m \u001b[39mdef\u001b[39;00m \u001b[39mcombinations\u001b[39m(n, k):\n\u001b[1;32m----> <a href='vscode-notebook-cell:/d%3A/%D0%BE%D0%B1%D1%83%D1%87%D0%B5%D0%BD%D0%B8%D0%B5/proect/matstat/Probability_theory_-_statistics-s--1/dz_2.ipynb#X23sZmlsZQ%3D%3D?line=2'>3</a>\u001b[0m     \u001b[39mreturn\u001b[39;00m \u001b[39mint\u001b[39m (factorial(n) \u001b[39m/\u001b[39m factorial(k) \u001b[39m*\u001b[39m factorial(n \u001b[39m-\u001b[39m k))\n",
      "\u001b[1;31mTypeError\u001b[0m: factorial() missing 2 required positional arguments: 'n' and 'p'"
     ]
    }
   ],
   "source": [
    "p2 = combinations(3, 2) / combinations(10, 2) * combinations(9, 2) / combinations(11, 2)\n",
    "p2"
   ]
  },
  {
   "cell_type": "code",
   "execution_count": 56,
   "metadata": {},
   "outputs": [
    {
     "ename": "TypeError",
     "evalue": "factorial() missing 2 required positional arguments: 'n' and 'p'",
     "output_type": "error",
     "traceback": [
      "\u001b[1;31m---------------------------------------------------------------------------\u001b[0m",
      "\u001b[1;31mTypeError\u001b[0m                                 Traceback (most recent call last)",
      "\u001b[1;32md:\\обучение\\proect\\matstat\\Probability_theory_-_statistics-s--1\\dz_2.ipynb Ячейка 19\u001b[0m in \u001b[0;36m<cell line: 1>\u001b[1;34m()\u001b[0m\n\u001b[1;32m----> <a href='vscode-notebook-cell:/d%3A/%D0%BE%D0%B1%D1%83%D1%87%D0%B5%D0%BD%D0%B8%D0%B5/proect/matstat/Probability_theory_-_statistics-s--1/dz_2.ipynb#X24sZmlsZQ%3D%3D?line=0'>1</a>\u001b[0m p3 \u001b[39m=\u001b[39m combinations(\u001b[39m7\u001b[39;49m, \u001b[39m1\u001b[39;49m) \u001b[39m/\u001b[39m combinations(\u001b[39m3\u001b[39m, \u001b[39m1\u001b[39m) \u001b[39m*\u001b[39m combinations(\u001b[39m10\u001b[39m, \u001b[39m2\u001b[39m) \u001b[39m/\u001b[39m combinations(\u001b[39m9\u001b[39m, \u001b[39m1\u001b[39m)\n\u001b[0;32m      <a href='vscode-notebook-cell:/d%3A/%D0%BE%D0%B1%D1%83%D1%87%D0%B5%D0%BD%D0%B8%D0%B5/proect/matstat/Probability_theory_-_statistics-s--1/dz_2.ipynb#X24sZmlsZQ%3D%3D?line=1'>2</a>\u001b[0m p3\n",
      "\u001b[1;32md:\\обучение\\proect\\matstat\\Probability_theory_-_statistics-s--1\\dz_2.ipynb Ячейка 19\u001b[0m in \u001b[0;36mcombinations\u001b[1;34m(n, k)\u001b[0m\n\u001b[0;32m      <a href='vscode-notebook-cell:/d%3A/%D0%BE%D0%B1%D1%83%D1%87%D0%B5%D0%BD%D0%B8%D0%B5/proect/matstat/Probability_theory_-_statistics-s--1/dz_2.ipynb#X24sZmlsZQ%3D%3D?line=1'>2</a>\u001b[0m \u001b[39mdef\u001b[39;00m \u001b[39mcombinations\u001b[39m(n, k):\n\u001b[1;32m----> <a href='vscode-notebook-cell:/d%3A/%D0%BE%D0%B1%D1%83%D1%87%D0%B5%D0%BD%D0%B8%D0%B5/proect/matstat/Probability_theory_-_statistics-s--1/dz_2.ipynb#X24sZmlsZQ%3D%3D?line=2'>3</a>\u001b[0m     \u001b[39mreturn\u001b[39;00m \u001b[39mint\u001b[39m (factorial(n) \u001b[39m/\u001b[39m factorial(k) \u001b[39m*\u001b[39m factorial(n \u001b[39m-\u001b[39m k))\n",
      "\u001b[1;31mTypeError\u001b[0m: factorial() missing 2 required positional arguments: 'n' and 'p'"
     ]
    }
   ],
   "source": [
    "p3 = combinations(7, 1) / combinations(3, 1) * combinations(10, 2) / combinations(9, 1)\n",
    "p3"
   ]
  },
  {
   "cell_type": "code",
   "execution_count": 57,
   "metadata": {},
   "outputs": [
    {
     "ename": "NameError",
     "evalue": "name 'p1' is not defined",
     "output_type": "error",
     "traceback": [
      "\u001b[1;31m---------------------------------------------------------------------------\u001b[0m",
      "\u001b[1;31mNameError\u001b[0m                                 Traceback (most recent call last)",
      "\u001b[1;32md:\\обучение\\proect\\matstat\\Probability_theory_-_statistics-s--1\\dz_2.ipynb Ячейка 20\u001b[0m in \u001b[0;36m<cell line: 1>\u001b[1;34m()\u001b[0m\n\u001b[1;32m----> <a href='vscode-notebook-cell:/d%3A/%D0%BE%D0%B1%D1%83%D1%87%D0%B5%D0%BD%D0%B8%D0%B5/proect/matstat/Probability_theory_-_statistics-s--1/dz_2.ipynb#X25sZmlsZQ%3D%3D?line=0'>1</a>\u001b[0m p \u001b[39m=\u001b[39m p1 \u001b[39m+\u001b[39m p2 \u001b[39m+\u001b[39m p3\n\u001b[0;32m      <a href='vscode-notebook-cell:/d%3A/%D0%BE%D0%B1%D1%83%D1%87%D0%B5%D0%BD%D0%B8%D0%B5/proect/matstat/Probability_theory_-_statistics-s--1/dz_2.ipynb#X25sZmlsZQ%3D%3D?line=1'>2</a>\u001b[0m p\n",
      "\u001b[1;31mNameError\u001b[0m: name 'p1' is not defined"
     ]
    }
   ],
   "source": [
    "p = p1 + p2 + p3\n",
    "p"
   ]
  }
 ],
 "metadata": {
  "kernelspec": {
   "display_name": "Python 3.9.12 ('base')",
   "language": "python",
   "name": "python3"
  },
  "language_info": {
   "codemirror_mode": {
    "name": "ipython",
    "version": 3
   },
   "file_extension": ".py",
   "mimetype": "text/x-python",
   "name": "python",
   "nbconvert_exporter": "python",
   "pygments_lexer": "ipython3",
   "version": "3.9.12"
  },
  "orig_nbformat": 4,
  "vscode": {
   "interpreter": {
    "hash": "452c276e810072ac0d070a9ecbd74ba181ab2f9a45b11b5d9d043df0d8e763c9"
   }
  }
 },
 "nbformat": 4,
 "nbformat_minor": 2
}
