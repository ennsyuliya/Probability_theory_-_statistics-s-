{
 "cells": [
  {
   "cell_type": "markdown",
   "metadata": {},
   "source": [
    "Основы статистики"
   ]
  },
  {
   "cell_type": "markdown",
   "metadata": {},
   "source": [
    "1.1. Генеральная совокупность и выборка"
   ]
  },
  {
   "cell_type": "markdown",
   "metadata": {},
   "source": [
    "Генеральная совокупность (от лат. generis — общий, родовой) — совокупность всех объектов, относительно которых предполагается делать выводы при изучении конкретной задачи. Далее ГС.\n",
    "\n",
    "Репрезентативная выборка – это такая выборка, в которой все основные признаки генеральной совокупности, из которой извлечена данная выборка, представлены приблизительно в той же пропорции или с той же частотой, с которой данный признак выступает в этой генеральной совокупности."
   ]
  },
  {
   "cell_type": "markdown",
   "metadata": {},
   "source": [
    "Способы репрезентативной выборки:\n",
    "\n",
    "Простая случайная выборка (simple random sample)\n",
    "\n",
    "Стратифицированная выборка (stratified sample) – разделение ГС на страты (группы) а оттуда уже делается случайная выборка.\n",
    "\n",
    "Групповая выборка (cluster sample) – похожие группы выбираются из выборки и далее делается случайная выборка (например, районы одного города)\n"
   ]
  },
  {
   "cell_type": "markdown",
   "metadata": {},
   "source": [
    "групповая выборка:\n",
    "\n",
    "- Выборка формируется только из несколько субпопуляций (кластеров)\n",
    "\n",
    "- В пределах кластера элементы должны быть разнородны, тогда как поддерживается однородность или схожесть между разными кластерами\n",
    "\n",
    "- Схема выборки нужна только для кластеров, попавших в выборку\n",
    "\n",
    "- Повышает эффективность выборки, уменьшая стоимость"
   ]
  },
  {
   "cell_type": "markdown",
   "metadata": {},
   "source": [
    "Стратифицированная выборка\n",
    "\n",
    "- Выборка формируется из всех субпопуляций (страт)\n",
    "\n",
    "- В пределах страты элементы должны быть однородны, а между стратами должна быть разнородность (различия)\n",
    "\n",
    "- Должна быть сформирована полная схема выборки для всех стратифицированных субпопуляций\n",
    "\n",
    "- Повышает точность"
   ]
  },
  {
   "cell_type": "markdown",
   "metadata": {},
   "source": [
    "Типы переменных\n",
    "\n",
    "Количественные – измеряемое (например, рост):\n",
    "\n",
    "Непрерывные – переменная принимает любое значение на опр. промежутке;\n",
    "\n",
    "Дискретные – только определенные значения (3.5 ребенка в семье не будет).\n",
    "\n",
    "Номинативные (= качественные) – разделение испытуемых на группы, цифры как маркеры (например: 1 -женщины, 2 – мужчины). Цифры как имена групп, не для расчетов.\n",
    "\n",
    "Ранговые – похоже на номинативные, только возможны сравнения (быстрее/медленнее и т.п.)"
   ]
  },
  {
   "cell_type": "markdown",
   "metadata": {},
   "source": [
    "Описательная статистика\n",
    "\n",
    "Глоссарий:\n",
    "\n",
    "Эмпирические данные - данные полученные опытным путём.\n",
    "\n",
    "Описательная (дескриптивная) статистика - обработка данных полученных эмпирическим путём и их систематизация, наглядное представление в форме графиков, таблиц, а также их количественное описание посредством основных статистических показателей.\n",
    "\n",
    "Распределение вероятностей - это закон, описывающий область значений случайной величины и вероятность её появления (частоту) в данной области. То есть насколько часто X появляется в данном диапазоне значений.\n",
    "\n",
    "Гистограмма частот - ступенчатая функция показывающая насколько часто вероятно появление величины в указанном диапазоне значений."
   ]
  },
  {
   "cell_type": "markdown",
   "metadata": {},
   "source": [
    "Меры центральной тенденции\n",
    "тип описательной статистики\n",
    "\n",
    "Мода\n",
    "Это значение признака, которое встречается максимально часто. В выборке может быть несколько или одна мода.\n",
    "\n",
    "Медиана\n",
    "Это значение признака, которое делит упорядочное множество попалам. Если множество содержит чётное количество элементов, то берётся среднее из двух серединных элементов упорядочного множества.\n",
    "\n",
    "Среднее значение\n",
    "Cумма всех значений измеренного признака делится на количество измеренных значений.\n",
    "\n",
    "Свойства среднего значения"
   ]
  },
  {
   "cell_type": "markdown",
   "metadata": {},
   "source": [
    "1.Примеры"
   ]
  },
  {
   "cell_type": "code",
   "execution_count": 1,
   "metadata": {},
   "outputs": [
    {
     "name": "stdout",
     "output_type": "stream",
     "text": [
      "mode: ModeResult(mode=array([172]), count=array([4]))\n",
      "median: 170.5\n",
      "mean: 170.4\n"
     ]
    }
   ],
   "source": [
    "'''Расчёт моды, медианы и среднего с помощью библиотек numpy и scipy'''\n",
    "import numpy as np\n",
    "from scipy import stats\n",
    "sample = np.array([185, 175, 170, 169, 171, 175, 157, 172, 170, 172, 167, 173, 168, 167, 166,\n",
    "              167, 169, 172, 177, 178, 165, 161, 179, 159, 164, 178, 172, 170, 173, 171])\n",
    "# в numpy почему-то нет моды\n",
    "print('mode:', stats.mode(sample))\n",
    "print('median:', np.median(sample))\n",
    "print('mean:', np.mean(sample))"
   ]
  },
  {
   "cell_type": "code",
   "execution_count": 2,
   "metadata": {},
   "outputs": [
    {
     "name": "stdout",
     "output_type": "stream",
     "text": [
      "mode: 0    172\n",
      "dtype: int64\n",
      "median: 170.5\n",
      "mean: 170.4\n"
     ]
    }
   ],
   "source": [
    "'''Расчёт моды, медианы и среднего с помощью библиотеки pandas'''\n",
    "import pandas as pd\n",
    "sample = pd.Series([185, 175, 170, 169, 171, 175, 157, 172, 170, 172, 167, 173, 168, 167, 166,\n",
    "              167, 169, 172, 177, 178, 165, 161, 179, 159, 164, 178, 172, 170, 173, 171])\n",
    "\n",
    "print('mode:', sample.mode())\n",
    "print('median:', sample.median())\n",
    "print('mean:', sample.mean())"
   ]
  },
  {
   "cell_type": "markdown",
   "metadata": {},
   "source": [
    "Меры изменчивости\n",
    "\n",
    "Размах\n",
    "\n",
    "Это разность между максимальным и минимальным значениям выборки. Крайне чувствителен к взбросам.\n",
    "\n",
    "Дисперсия\n",
    "\n",
    "Это средний квадрат отклонений индивидуальных значений признака от их средней величины\n",
    "\n",
    "Для генеральной совокупности\n",
    "\n",
    "D=∑ni=1(xi−Mx)2n\n",
    "Среднеквадратическое отклонение\n",
    "\n",
    "σ=D−−√\n",
    "Для выборки\n",
    "\n",
    "D=∑ni=1(xi−Mx)2n−1\n",
    "\n",
    "где 1 это количество степеней свободы Важно отменить, что среднеквадратическое отклонение для выборки обозначают по другому, как sd - standart deviation\n",
    "\n",
    "Ликбез: Почему именно квадрат, а не модуль или куб?\n",
    "\n",
    "Могу предположить, что линейное отклонение более чувствительно выбросам, квадратичное менее, кубическое — ещё менее чувствительно. Попробовал посчитать для 3-х выборок: [1,2,3,4,5], [1,2,3,4,50] и [1,2,3,4,500]:\n",
    "\n",
    "Линейное: 2.5, 452.5 и 49502.5\n",
    "Квадратичное: 1.58, 21.27 и 222.49\n",
    "Кубическое: 1.36, 7.68, и 36.71\n",
    "\n",
    "Модуль не берут потому, что модуль - не гладкая функция. В нуле у модуля имеется \"излом\" из-за которого у производной происходит разрыв. А очень многие математические теоремы, которые наверняка потребуются дальше, работают только на гладких функциях.\n",
    "\n",
    "Вообще, с не гладкими функциями работать не любят. Там все становится сложнее. Поэтому берется квадрат. Source\n",
    "\n",
    "Свойства дисперсии\n"
   ]
  },
  {
   "cell_type": "markdown",
   "metadata": {},
   "source": [
    "Квартили распределения\n",
    "\n",
    "Квартили - это три точки(значения признака), которые делят упорядочное множество данных на 4 равные части.\n",
    "\n",
    "Box plot - такой вид диаграммы в удобной форме показывает медиану, нижний и верхний квартили, минимальное и максимальное значение выборки и выбросы.\n",
    "\n",
    "\n",
    "\n",
    "Квартили и inter quartile range используют, чтобы оценить наличие выбросов. Алгоритм расчета - посчитали квартили, посчитали разницу между ними, вычислили теоретический максимум и минимум, сравнили с имеющимся и выяснили есть ли у вас выбросы и сколько их. Если много, то нужно анализировать и решать брать ли их в выборку или нет."
   ]
  },
  {
   "cell_type": "markdown",
   "metadata": {},
   "source": [
    "Пример 2\n"
   ]
  },
  {
   "cell_type": "code",
   "execution_count": 3,
   "metadata": {},
   "outputs": [
    {
     "name": "stdout",
     "output_type": "stream",
     "text": [
      "Range: 28 is equal max - min: 28\n",
      "Standard deviation: 6.00\n"
     ]
    }
   ],
   "source": [
    "'''Расчитываем размах и стандартное отклонение с помощью numpy'''\n",
    "import numpy as np\n",
    "sample = np.array([185, 175, 170, 169, 171, 175, 157, 172, 170, 172, 167, 173, 168, 167, 166,\n",
    "              167, 169, 172, 177, 178, 165, 161, 179, 159, 164, 178, 172, 170, 173, 171])\n",
    "\n",
    "# The name of the function comes from the acronym for ‘peak to peak’.\n",
    "print(f'Range: {np.ptp(sample)} is equal max - min: {np.max(sample)- np.min(sample)}')\n",
    "\n",
    "# ddof - Delta Degrees of Freedom\n",
    "print(f'Standard deviation: {np.std(sample, ddof=1):.2f}')"
   ]
  },
  {
   "cell_type": "markdown",
   "metadata": {},
   "source": [
    "Диаграмма boxplot"
   ]
  },
  {
   "cell_type": "code",
   "execution_count": 4,
   "metadata": {},
   "outputs": [
    {
     "data": {
      "image/png": "[encoded data removed]",
      "text/plain": [
       "<Figure size 432x288 with 1 Axes>"
      ]
     },
     "metadata": {
      "needs_background": "light"
     },
     "output_type": "display_data"
    }
   ],
   "source": [
    "'''с помощью диаграммы boxplot мы можем узнать медиану, 2 и 3 квартиль'''\n",
    "import matplotlib.pyplot as plt\n",
    "\n",
    "\n",
    "plt.boxplot(sample, showfliers=1)\n",
    "plt.show()"
   ]
  },
  {
   "cell_type": "markdown",
   "metadata": {},
   "source": [
    "Нормальное распределение\n",
    "\n",
    "Коротко\n",
    "\n",
    "Унимодально\n",
    "Симметрично\n",
    "Отклонения наблюдений от среднего подчиняются определённому вероятностному закону\n",
    "Подробно\n",
    "\n",
    "Нормальное распределение возникает в результате воздействия множества факторов, вклад каждого из которых очень мал.\n",
    "\n",
    "Для облегчения этого восприятия в 1873 году Фрэнсис Гальтон сделал устройство, которое в последствии назвали Доской Галтона (или квинкункс). Суть простая: сверху по середине подаются шарики, которые при прохождении нескольких уровней (например, 10-ти) на каждом уровне сталкиваются с препятствием, и при каждом столкновении отскакивают либо влево, либо вправо (с равной вероятностью).\n",
    "\n",
    "Как вы догадываетесь, результатом прохождения - это распределение, стремящееся к нормальному!\n",
    "Нормальное распределение\n",
    "Коротко\n",
    "\n",
    "Унимодально\n",
    "Симметрично\n",
    "Отклонения наблюдений от среднего подчиняются определённому вероятностному закону\n",
    "Подробно\n",
    "\n",
    "Нормальное распределение возникает в результате воздействия множества факторов, вклад каждого из которых очень мал.\n",
    "\n",
    "Для облегчения этого восприятия в 1873 году Фрэнсис Гальтон сделал устройство, которое в последствии назвали Доской Галтона (или квинкункс). Суть простая: сверху по середине подаются шарики, которые при прохождении нескольких уровней (например, 10-ти) на каждом уровне сталкиваются с препятствием, и при каждом столкновении отскакивают либо влево, либо вправо (с равной вероятностью).\n",
    "\n",
    "Как вы догадываетесь, результатом прохождения - это распределение, стремящееся к нормальному!\n",
    "\n",
    "в виде кода:"
   ]
  },
  {
   "cell_type": "code",
   "execution_count": 5,
   "metadata": {},
   "outputs": [
    {
     "data": {
      "image/png": "[encoded data removed]",
      "text/plain": [
       "<Figure size 432x288 with 1 Axes>"
      ]
     },
     "metadata": {
      "needs_background": "light"
     },
     "output_type": "display_data"
    }
   ],
   "source": [
    "'''Иммитация доски Гальтона в коде'''\n",
    "import seaborn as sns\n",
    "data = dict()\n",
    "# количество шариков\n",
    "N = 10000\n",
    "# количество уровней\n",
    "level = 20\n",
    "for _ in range(N):\n",
    "    index = 0\n",
    "    for _ in range(level):\n",
    "        index += np.random.choice([-1, 1])\n",
    "    data.setdefault(index, 0)\n",
    "    data[index] += 1\n",
    "sns.barplot(x=list(data.keys()), y=list(data.values()));"
   ]
  },
  {
   "cell_type": "markdown",
   "metadata": {},
   "source": [
    "Z-преобразование\n",
    "Преобразование полученных данных в стандартную Z-шкалу (Z-scores) со средним значением = 0 и дисперсией = 1. Чтобы привести к такому виду из каждого наблюдения нужно отнять среднее значение и разделитьв на стандартное отклонение.\n",
    "\n",
    "Zi=xi−X¯sd\n",
    "Иногда нам необходимо рассчитать z - значение только для отдельно взятого наблюдения, чтоб выяснить насколько далеко оно отклоняется от среднего значения в единицах стандартного отклонения.\n",
    "\n",
    "Правило 3х-сигм"
   ]
  },
  {
   "cell_type": "code",
   "execution_count": 9,
   "metadata": {},
   "outputs": [
    {
     "name": "stdout",
     "output_type": "stream",
     "text": [
      "Только у 4.78% людей, IQ>125\n"
     ]
    }
   ],
   "source": [
    "''' Считается, что значение IQ (уровень интеллекта) у людей имеет нормальное распределение\n",
    "со средним значением равным 100 и стандартным отклонением равным 15 (M = 100, sd = 15).\n",
    "Какой приблизительно процент людей обладает IQ > 125?\n",
    "'''\n",
    "\n",
    "from scipy import stats\n",
    "mean = 100\n",
    "std = 15\n",
    "IQ=125\n",
    "# sf - Survival function = (1 - cdf) - Cumulative distribution function\n",
    "print(f\"Только у {(stats.norm(mean, std).sf(IQ))*100:.2f}% людей, IQ>{IQ}\")"
   ]
  },
  {
   "cell_type": "markdown",
   "metadata": {},
   "source": [
    "Центральная предельная теорема\n",
    "\n",
    "Гласит, что множество средних выборок из генеральной совокупности (ГС необязательно иметь нормальное распределние) будут иметь нормальное распределение. Причём средняя этого распределения будет близко к средней генеральной совокупности, а стандарное отклонение этого распределение будет називаться стандарной ошибкой среднего (se).\n",
    "\n",
    "Зная стандартное отклонение ГС и размер выборки мы можем рассчитать стандартную ошибку среднего.\n",
    "\n",
    "se=σN−−√\n",
    "где N - размер выборки. Если размер выборки достаточно большой (>30) и она является репрезативна, то вместо стандарного отклонения ГС мы можем взять стандарное отклонение выборки.\n",
    "\n",
    "se=sdN−−√\n",
    "Стандартная ошибка среднего - это среднеквадратическое отклонение распределения выборочных средних\n",
    "\n",
    "4.Примеры\n",
    "Проверим на практике все эти законы."
   ]
  },
  {
   "cell_type": "code",
   "execution_count": 10,
   "metadata": {},
   "outputs": [
    {
     "data": {
      "text/plain": [
       "<AxesSubplot:ylabel='Frequency'>"
      ]
     },
     "execution_count": 10,
     "metadata": {},
     "output_type": "execute_result"
    },
    {
     "data": {
      "image/png": "[encoded data removed]",
      "text/plain": [
       "<Figure size 432x288 with 1 Axes>"
      ]
     },
     "metadata": {
      "needs_background": "light"
     },
     "output_type": "display_data"
    }
   ],
   "source": [
    "import numpy as np\n",
    "import pandas as pd\n",
    "import matplotlib.pyplot as plt\n",
    "import math\n",
    "\n",
    "# значения игральной кости\n",
    "dice = [1, 2, 3, 4, 5, 6]\n",
    "# количество бросков кости\n",
    "count = 6\n",
    "# размер генеральной совокупность\n",
    "sp_size = 10000\n",
    "# sp - Statistical population - генеральная совокупность\n",
    "sp = pd.Series(dtype=np.int64, index=range(sp_size))\n",
    "for i in range(sp_size):\n",
    "    value = 0\n",
    "    for _ in range(count):\n",
    "        value += np.random.choice(dice)\n",
    "    sp[i] = value\n",
    "\n",
    "sp.plot.hist(bins=28)"
   ]
  },
  {
   "cell_type": "code",
   "execution_count": 11,
   "metadata": {},
   "outputs": [
    {
     "data": {
      "image/png": "[encoded data removed]",
      "text/plain": [
       "<Figure size 1152x720 with 12 Axes>"
      ]
     },
     "metadata": {
      "needs_background": "light"
     },
     "output_type": "display_data"
    }
   ],
   "source": [
    "# количество выборок\n",
    "samples_count = 10\n",
    "# размер выборки\n",
    "sample_size = 200\n",
    "samples = pd.DataFrame([\n",
    "    [np.random.choice(sp) for _ in range(sample_size)] for __ in range(samples_count)\n",
    "]).T\n",
    "\n",
    "samples.hist(figsize=(16, 10), sharex=0)\n",
    "plt.subplots_adjust(hspace = 0.6)"
   ]
  },
  {
   "cell_type": "code",
   "execution_count": 12,
   "metadata": {},
   "outputs": [
    {
     "name": "stdout",
     "output_type": "stream",
     "text": [
      "сравним среднию ГС и среднию средних выборок 21.0268 21.140499999999996\n",
      "разница: 0.11369999999999436 , стандартная ошибка среднего: 0.3701910167587654\n"
     ]
    }
   ],
   "source": [
    "means = samples.mean()\n",
    "print('сравним среднию ГС и среднию средних выборок', sp.mean(), means.mean())\n",
    "print('разница:', abs(means.mean() - sp.mean()), ', стандартная ошибка среднего:', means.std())"
   ]
  },
  {
   "cell_type": "code",
   "execution_count": 13,
   "metadata": {},
   "outputs": [
    {
     "name": "stdout",
     "output_type": "stream",
     "text": [
      "sample mean: 21.07\n",
      "sample SE:  0.29506067853934803\n"
     ]
    }
   ],
   "source": [
    "# возмем произвольную выборку \n",
    "sample = samples[0]\n",
    "print('sample mean:', sample.mean())\n",
    "print('sample SE: ', sample.std()/math.sqrt(sample.size))"
   ]
  },
  {
   "cell_type": "markdown",
   "metadata": {},
   "source": [
    "PS Важное замечание о ЦПТ номер 2.\n",
    "\n",
    "Пожалую самый сложный момент - это как мы так взяли и заменили стандартное отклонение генеральной совокупности на выборочное. Ну и что с того, что у нас выборка объемом больше 30 наблюдений, что за магическое число такое?\n",
    "\n",
    "Все правильно, никакой магии не происходит. И совсем скоро мы в этом окончательно разберемся. Как только пройдем тему t - распределения во втором модуле. Вот тут я подробно расписал, как же нам нужно рассчитывать стандартную ошибку среднего, если мы не знаем стандартное отклонение в генеральной совокупности."
   ]
  },
  {
   "cell_type": "markdown",
   "metadata": {},
   "source": [
    "Доверительные интервалы для среднего\n",
    "\n",
    "\n",
    "Если мы имеем некоторую выборку и ГС, то мы не можем точно знать среднюю ГС, зная только среднее выборки. Однако мы можем сказать, с некоторым процентом уверенности, в каком интервале лежит средняя ГС. Понятно дело, что для нас лучше, чтобы этот интервал был как можно меньше, как это сделать?\n",
    "\n",
    "Мы знаем, средняя средних выборок, стремится к средней ГС, также мы знаем, что стандартная ошибка среднего описывает стандартное отклонение распределения средних выборок. Если мы возьмём случайную выборку X и найдём её среднее X¯, а также вычислим стандартную ошибку se, то мы можем вычислить доверительный интевал [X¯−1.96∗se;X¯+1.96∗se] который описывает среднюю ГС с некотором интервале с 95% доверия.\n",
    "\n",
    "Загадочное число 1,96 это количество сигм σ в нормальном распределение, необходимые, чтобы охватить 95% значений в этом распределнии.\n",
    "\n",
    "\n",
    "\n",
    "Если мы рассчитали 95% доверительный интервал для среднего значения, это значит:\n",
    "Среднее значение в генеральной совокупности точно принадлежит рассчитанному доверительному интервалу.\n",
    "Мы можем быть на 95% уверены, что среднее значение в генеральной совокупности принадлежит рассчитанному доверительному интервалу.\n",
    "Если многократно повторять эксперимент, для каждой выборки рассчитывать свой доверительный интервал, то в 95 % случаев истинное среднее будет находиться внутри доверительного интервала.\n",
    "Среднее значение в генеральной совокупности точно превышает нижнюю границу 95% доверительного интервала.\n",
    "Если многократно повторять эксперимент, то 95 % выборочных средних значений будут принадлежать рассчитанному нами доверительному интервалу. да-да, тут просто надо представить это в уме\n",
    "\n",
    "Если из лекции усвоить разницу между средним ГС и средним выборки, а так же понять, что доверительный интервал строится для выборки, а не для ГС, то ответы в тесте легко определяются."
   ]
  },
  {
   "cell_type": "code",
   "execution_count": 16,
   "metadata": {},
   "outputs": [
    {
     "name": "stdout",
     "output_type": "stream",
     "text": [
      "1.96 sigma\n"
     ]
    }
   ],
   "source": [
    "'''Вычисление 1.96 c помощью scipy'''\n",
    "from scipy import stats\n",
    "\n",
    "# 95%\n",
    "p = 0.95\n",
    "# так как у нас двухсторонний интервал, сделаем вычисление\n",
    "alpha = (1-p)/2\n",
    "# isf - Inverse survival function (inverse of sf) \n",
    "print(f'{stats.norm().isf(alpha):.2f} sigma')"
   ]
  },
  {
   "cell_type": "code",
   "execution_count": 17,
   "metadata": {},
   "outputs": [
    {
     "name": "stdout",
     "output_type": "stream",
     "text": [
      "[8.71; 11.29]\n"
     ]
    }
   ],
   "source": [
    "'''Рассчитайте 99% доверительный интервал для следующего примера: \n",
    "среднее = 10, стандартное отклонение = 5, размер выборки = 100\n",
    "'''\n",
    "from numpy import sqrt\n",
    "from scipy import stats\n",
    "\n",
    "p = 0.99\n",
    "mean = 10\n",
    "std = 5\n",
    "n = 100\n",
    "\n",
    "se = std/sqrt(n)\n",
    "alpha = (1-p)/2\n",
    "sigma = stats.norm().isf(alpha)\n",
    "сonfidence_interval = mean - sigma*se, mean + sigma*se\n",
    "print('[%.2f; %.2f]' % сonfidence_interval)"
   ]
  },
  {
   "cell_type": "markdown",
   "metadata": {},
   "source": [
    "Идея статистического вывода\n",
    "\n",
    "Статистическая проверка гипотез\n",
    "\n",
    "p-уровень значимости\n",
    "\n",
    "p-уровень значимости - это вероятность получить такие или более выраженные различия при условии, что в генеральной совокупности никаких различий на самом деле нет."
   ]
  },
  {
   "cell_type": "markdown",
   "metadata": {},
   "source": [
    "Часть 2\n",
    "\n",
    "T-распределение\n",
    "\n",
    "Распределение Стьюдента по сути представляет собой сумму нескольких нормально распределенных случайных величин. Чем больше величин, тем больше верятность, что их сумма будет иметь нормальное распределение. Таким образом, количество суммируемых величин определяет важнейший параметр формы данного распредения - число степеней свободы."
   ]
  },
  {
   "cell_type": "code",
   "execution_count": 18,
   "metadata": {},
   "outputs": [
    {
     "data": {
      "image/png": "[encoded data removed]",
      "text/plain": [
       "<Figure size 432x288 with 1 Axes>"
      ]
     },
     "metadata": {
      "needs_background": "light"
     },
     "output_type": "display_data"
    }
   ],
   "source": [
    "'''График снизу показывает, как меняется форма распределения при увеличение количества степеней свободы.\n",
    "А также показывает приближение t-распредееления к нормальному по мере увеличения степеней свободы.'''\n",
    "from scipy.stats import t, norm\n",
    "import numpy as np\n",
    "import matplotlib.pyplot as plt\n",
    "\n",
    "\n",
    "x = np.linspace(-5, 5, 100)\n",
    "y1, y2, y3 = t.pdf(x, df=1), t.pdf(x, df=3), t.pdf(x, df=10)\n",
    "y4 = norm.pdf(x)\n",
    "\n",
    "plt.title('графики t-распредления с разными степенями свободы')\n",
    "plt.plot(x, y1)\n",
    "plt.plot(x, y2)\n",
    "plt.plot(x, y3)\n",
    "plt.plot(x, y4, 'r:')\n",
    "plt.legend(('df=1', 'df=3', 'df=10', 'norm'))\n",
    "plt.show()"
   ]
  },
  {
   "cell_type": "markdown",
   "metadata": {},
   "source": [
    "График плотности распределения Стьюдента, как и нормального распределения, является симметричным и имеет вид колокола, но с более «тяжёлыми» хвостами"
   ]
  },
  {
   "cell_type": "markdown",
   "metadata": {},
   "source": [
    "Подробно про нормальное и t-распредление\n",
    "\n",
    "В видео лекциях говорилось, что мы используем t-распределение в ситуации небольшого объема выборки. Необходимо более подробно пояснить, зачем это нужно.\n",
    "\n",
    "Вернемся к предельной центральной теореме, мы уже узнали, что если некий признак в генеральной совокупности распределен нормально со средним μ и стандартным отклонением σ, и мы будем многократно извлекать выборки одинакового размера n, и для каждой выборки рассчитывать, как далеко выборочное среднее X¯ ˉ отклонилось от среднего в генеральной совокупности в единицах стандартной ошибки среднего:\n",
    "\n",
    "z=X¯−μσn−−√\n",
    "то эта величина z будет иметь стандартное нормальное распределение со средним равным нулю и стандартным отклонением равным единице.\n",
    "\n",
    "Обратите внимание, что для расчета стандартной ошибки мы используем именно стандартное отклонение в генеральной совокупности - σ. Ранее мы уже обсуждали, что на практике σ нам практически никогда не известна, и для расчета стандартной ошибки мы используем выборочное стандартное отклонение.\n",
    "\n",
    "Так вот, строго говоря в таком случае распределение отклонения выборочного среднего и среднего в генеральной совокупности, деленного на стандартную ошибку, теперь будет описываться именно при помощи t - распределения.\n",
    "\n",
    "t=X¯−μsdn−−√\n",
    "таким образом, в случае неизвестной σ мы всегда будем иметь дело с t-распределением. На этом этапе вы должны с негодованием спросить меня, почему же мы применяли z-критерий в первом модуле курса, для проверки гипотез, используя выборочное стандартное отклонение?\n",
    "\n",
    "Мы уже знаем, что при довольно большом объеме выборки (обычно в учебниках приводится правило, n > 30) t-распределение совсем близко подбирается к нормальному распределению:\n",
    "\n",
    "Поэтому иногда, для простоты расчетов говорится, что если n > 30, то мы будем использовать свойства нормального распределения для наших целей. Строго говоря, это конечно неправильный подход, который часто критикуют. В до компьютерную эпоху этому было некоторое объяснение, чтобы не рассчитывать для каждого n больше 30 соответствующее критическое значение t - распределения, статистики как бы округляли результат и использовали нормальное распределение для этих целей. Сегодня, конечно, с этим больше никаких проблем нет, и все статистические программы, разумеется, без труда рассчитают все необходимые показатели для t - распределения с любым числом степеней свободы. Действительно при выборках очень большого объема t - распределение практически не будет отличаться от нормального, однако, хоть и очень малые но различия все равно будут.\n",
    "\n",
    "Поэтому, правильнее будет сказать, что мы используем t - распределение не потому что у нас маленькие выборки, а потому что мы не знаем стандартное отклонение в генеральной совокупности. Поэтому в дальнейшем мы всегда будем использовать t - распределение для проверки гипотез, если нам неизвестно стандартное отклонение в генеральной совокупности, необходимое для расчета стандартной ошибки, даже если объем выборки больше 30."
   ]
  },
  {
   "cell_type": "markdown",
   "metadata": {},
   "source": [
    "5.Примеры"
   ]
  },
  {
   "cell_type": "code",
   "execution_count": 19,
   "metadata": {},
   "outputs": [
    {
     "name": "stdout",
     "output_type": "stream",
     "text": [
      "p = 0.065\n"
     ]
    }
   ],
   "source": [
    "'''На выборке в 15 наблюдений при помощи одновыборочного t-теста\n",
    "проверяется нулевая гипотеза: μ=10 \n",
    "и рассчитанное t-значение равняется -2 (t = -2), то p-уровень значимости  (двусторонний) равен:\n",
    "'''\n",
    "from scipy import stats\n",
    "\n",
    "t = -2\n",
    "n = 15\n",
    "df = n - 1\n",
    "\n",
    "p = 2 * stats.t.sf(abs(t), df)\n",
    "print(f'p = {p:.3f}')"
   ]
  },
  {
   "cell_type": "markdown",
   "metadata": {},
   "source": [
    "Сравнение двух средних. t-критерий Стьюдента\n",
    "\n",
    "t-критерий Стьюдента — общее название для статистических тестов, в которых статистика критерия имеет распределение Стьюдента. Наиболее часто t-критерии применяются для проверки равенства средних значений в двух выборках. Нулевая гипотеза предполагает, что средние равны (отрицание этого предположения называют гипотезой сдвига). Для применения данного критерия необходимо, чтобы исходные данные имели нормальное распределение.\n",
    "\n",
    "t=X1¯−X2¯se\n",
    "se=sd21n1+sd22n2−−−−−−−−−√\n",
    "Откуда берётся такая формула se?:\n",
    "\n",
    "(se1)2=(sd1n1−−√)2=sd21n1\n",
    "То есть:\n",
    "\n",
    "se=sd21n1+sd22n2−−−−−−−−−√=se21+se22−−−−−−−−√\n",
    "причем ответ на вопрос, почему верно это равенство, кроется в свойстве дисперсии: дисперсия суммы независимых случайных величин равна сумме их дисперсий. а отклонение - это корень из дисперсии. отсюда ваша последняя формула"
   ]
  },
  {
   "cell_type": "markdown",
   "metadata": {},
   "source": [
    "Примеры применения t-критерий Стьюдента\n",
    "\n",
    "Пример 1. \n",
    "Первая выборка — это пациенты, которых лечили препаратом А. Вторая выборка — пациенты, которых лечили препаратом Б. Значения в выборках — это некоторая характеристика эффективности лечения (уровень метаболита в крови, температура через три дня после начала лечения, срок выздоровления, число койко-дней, и т.д.) Требуется выяснить, имеется ли значимое различие эффективности препаратов А и Б, или различия являются чисто случайными и объясняются «естественной» дисперсией выбранной характеристики.\n",
    "\n",
    "Пример 2. \n",
    "Первая выборка — это значения некоторой характеристики состояния пациентов, записанные до лечения. Вторая выборка — это значения той же характеристики состояния тех же пациентов, записанные после лечения. Объёмы обеих выборок обязаны совпадать; более того, порядок элементов (в данном случае пациентов) в выборках также обязан совпадать. Такие выборки называются связными. Требуется выяснить, имеется ли значимое отличие в состоянии пациентов до и после лечения, или различия чисто случайны.\n",
    "\n",
    "Пример 3. \n",
    "Первая выборка — это поля, обработанные агротехническим методом А. Вторая выборка — поля, обработанные агротехническим методом Б. Значения в выборках — это урожайность. Требуется выяснить, является ли один из методов эффективнее другого, или различия урожайности обусловлены случайными факторами.\n",
    "\n",
    "Пример 4. \n",
    "Первая выборка — это дни, когда в супермаркете проходила промо-акция типа А (красные ценники со скидкой). Вторая выборка — дни промо-акции типа Б (каждая пятая пачка бесплатно). Значения в выборках — это показатель эффективности промо-акции (объём продаж, либо выручка в рублях). Требуется выяснить, какой из типов промо-акции более эффективен."
   ]
  },
  {
   "cell_type": "markdown",
   "metadata": {},
   "source": [
    "6. Примеры"
   ]
  },
  {
   "cell_type": "code",
   "execution_count": 20,
   "metadata": {},
   "outputs": [
    {
     "data": {
      "text/html": [
       "<div>\n",
       "<style scoped>\n",
       "    .dataframe tbody tr th:only-of-type {\n",
       "        vertical-align: middle;\n",
       "    }\n",
       "\n",
       "    .dataframe tbody tr th {\n",
       "        vertical-align: top;\n",
       "    }\n",
       "\n",
       "    .dataframe thead th {\n",
       "        text-align: right;\n",
       "    }\n",
       "</style>\n",
       "<table border=\"1\" class=\"dataframe\">\n",
       "  <thead>\n",
       "    <tr style=\"text-align: right;\">\n",
       "      <th></th>\n",
       "      <th>Mx</th>\n",
       "      <th>SD</th>\n",
       "      <th>N</th>\n",
       "      <th>SE</th>\n",
       "      <th>interval</th>\n",
       "    </tr>\n",
       "  </thead>\n",
       "  <tbody>\n",
       "    <tr>\n",
       "      <th>Выборка1</th>\n",
       "      <td>100.815</td>\n",
       "      <td>10.246503</td>\n",
       "      <td>20.0</td>\n",
       "      <td>2.291188</td>\n",
       "      <td>4.545754</td>\n",
       "    </tr>\n",
       "    <tr>\n",
       "      <th>Выборка2</th>\n",
       "      <td>75.735</td>\n",
       "      <td>15.458102</td>\n",
       "      <td>20.0</td>\n",
       "      <td>3.456537</td>\n",
       "      <td>6.886174</td>\n",
       "    </tr>\n",
       "  </tbody>\n",
       "</table>\n",
       "</div>"
      ],
      "text/plain": [
       "               Mx         SD     N        SE  interval\n",
       "Выборка1  100.815  10.246503  20.0  2.291188  4.545754\n",
       "Выборка2   75.735  15.458102  20.0  3.456537  6.886174"
      ]
     },
     "execution_count": 20,
     "metadata": {},
     "output_type": "execute_result"
    }
   ],
   "source": [
    "import pandas as pd\n",
    "from scipy.stats import t\n",
    "import matplotlib.pyplot as plt\n",
    "import numpy as np\n",
    "\n",
    "array1 = np.array([84.7, 105.0, 98.9, 97.9, 108.7, 81.3, 99.4, 89.4, 93.0,\n",
    "                   119.3, 99.2, 99.4, 97.1, 112.4, 99.8, 94.7, 114.0, 95.1, 115.5, 111.5])\n",
    "array2 = np.array([57.2, 68.6, 104.4, 95.1, 89.9, 70.8, 83.5, 60.1, 75.7,\n",
    "                   102.0, 69.0, 79.6, 68.9, 98.6, 76.0, 74.8, 56.0, 55.6, 69.4, 59.5])\n",
    "\n",
    "# считаем количество элементов, среднее, стандартное отклонение и стандартную ошибку\n",
    "df = pd.DataFrame({'Выборка1':array1, 'Выборка2':array2}).agg(['mean','std','count','sem']).transpose()\n",
    "df.columns = ['Mx','SD','N','SE']\n",
    "\n",
    "# рассчитываем 95% интервал отклонения среднего\n",
    "p = 0.95\n",
    "K = t.ppf((1 + p)/2, df['Mx']-1)\n",
    "df['interval'] = K * df['SE']\n",
    "\n",
    "df"
   ]
  },
  {
   "cell_type": "code",
   "execution_count": 21,
   "metadata": {},
   "outputs": [
    {
     "name": "stderr",
     "output_type": "stream",
     "text": [
      "C:\\Users\\Enns\\AppData\\Local\\Temp\\ipykernel_4660\\134215261.py:11: UserWarning: marker is redundantly defined by the 'marker' keyword argument and the fmt string \"o\" (-> marker='o'). The keyword argument will take precedence.\n",
      "  bplot2 = ax2.errorbar(x=df.index, y=df['Mx'], yerr=df['interval'],\\\n"
     ]
    },
    {
     "data": {
      "image/png": "[encoded data removed]",
      "text/plain": [
       "<Figure size 1008x648 with 2 Axes>"
      ]
     },
     "metadata": {
      "needs_background": "light"
     },
     "output_type": "display_data"
    }
   ],
   "source": [
    "#строим графики, boxplot из изначальных данных array1, array2,  доверительные интервалы из датафрейма df\n",
    "fig, (ax1, ax2) = plt.subplots(nrows=1, ncols=2, figsize=(14, 9))\n",
    "\n",
    "# график boxplot\n",
    "bplot1 = ax1.boxplot([array1, array2],\n",
    "                     vert=True,  # создаем вертикальные боксы\n",
    "                     patch_artist=True, # для красоты заполним цветом боксы квантилей\n",
    "                     labels=['Выборка1', 'Выборка2']) # используется для задания значений выборок в случае с boxplot\n",
    "\n",
    "# график доверительных интервалов\n",
    "bplot2 = ax2.errorbar(x=df.index, y=df['Mx'], yerr=df['interval'],\\\n",
    "                      color=\"black\", capsize=3, marker=\"s\", markersize=4, mfc=\"red\", mec=\"black\", fmt ='o')\n",
    "\n",
    "# раскрасим boxplot  \n",
    "colors = ['pink', 'lightgreen']\n",
    "for patch, color in zip(bplot1['boxes'], colors):\n",
    "    patch.set_facecolor(color)\n",
    "    \n",
    "# добавим общие для каждого из графиков данные\n",
    "for ax in [ax1, ax2]:\n",
    "    ax.yaxis.grid(True)\n",
    "    ax.set_title('Температура плавления ДНК двух типов')\n",
    "    ax.set_xlabel('Сравнение двух выборок')\n",
    "    ax.set_ylabel('Температура F')\n",
    "    \n",
    "plt.show()"
   ]
  },
  {
   "cell_type": "markdown",
   "metadata": {},
   "source": [
    "Задача\n",
    "\n",
    "Рассчитайте доверительный интервал основываясь на знании t - распределения для среднего значения температуры плавления ДНК у первого вида:\n",
    "\n",
    "X¯=89,9sd=11,3n=20"
   ]
  },
  {
   "cell_type": "code",
   "execution_count": 22,
   "metadata": {},
   "outputs": [
    {
     "name": "stdout",
     "output_type": "stream",
     "text": [
      "[84.61; 95.19]\n"
     ]
    }
   ],
   "source": [
    "from scipy import stats\n",
    "from math import sqrt\n",
    "\n",
    "mean = 89.9\n",
    "sd = 11.3\n",
    "n = 20\n",
    "# степень свободы\n",
    "df = n - 1\n",
    "# 95% доверительный интервал\n",
    "p = 0.95\n",
    "alpha = 1-p\n",
    "# стандартная ошибка\n",
    "se = sd/sqrt(n)\n",
    "\n",
    "# ppf - Percent point function\n",
    "# делим на два, так как по умолчанию функция считает для одного конца, а нам надо для двух\n",
    "t_value = stats.t(df).ppf(1-(alpha/2))\n",
    "\n",
    "# доверительный интервал \n",
    "сonfidence_interval = (mean-t_value*se, mean+t_value*se)\n",
    "print('[%.2f; %.2f]' % сonfidence_interval)"
   ]
  },
  {
   "cell_type": "markdown",
   "metadata": {},
   "source": [
    "Первые премии Оскар за лучшую мужскую и женскую роль были вручены в 1929. Данные гистограммы демонстрируют распределение возраста победителей с 1929 по 2014 год (100 мужчин, 100 женщин). Используя t - критерий проверьте, можно ли считать наблюдаемые различия в возрасте между лучшими актрисами и актерами статистически достоверными.\n",
    "\n",
    "Средний возраст мужчин равен 45, sd = 9.\n",
    "\n",
    "Средний возраст женщин равен 34, sd = 10.\n",
    "\n"
   ]
  },
  {
   "cell_type": "code",
   "execution_count": 23,
   "metadata": {},
   "outputs": [
    {
     "name": "stdout",
     "output_type": "stream",
     "text": [
      "p=5.328933875539173e-13\n",
      "Мы можем отклонить нулевую гипотезу\n"
     ]
    }
   ],
   "source": [
    "from scipy.stats import t\n",
    "from numpy import sqrt\n",
    "\n",
    "mean_m, mean_f = 45, 34\n",
    "sd_m, sd_f = 9, 10\n",
    "N = 100\n",
    "\n",
    "se = sqrt((sd_m ** 2)/N + (sd_f ** 2)/N)\n",
    "t_value = (mean_m - mean_f)/se\n",
    "\n",
    "p = t.sf(t_value, N-2)\n",
    "print(f'p={p}')\n",
    "if p >= 0.05:\n",
    "    print('Мы НЕ можем отклонить нулевую гипотезу')\n",
    "else:\n",
    "    print('Мы можем отклонить нулевую гипотезу')"
   ]
  },
  {
   "cell_type": "markdown",
   "metadata": {},
   "source": [
    "Проверка распределения на нормальность\n",
    "\n",
    "QQ-plot\n",
    "\n",
    "Эту тему пока сам не понял, так что инфы мало((\n",
    "\n",
    "\n",
    "\n",
    "    \n",
    "\n",
    "7.Примеры"
   ]
  },
  {
   "cell_type": "code",
   "execution_count": 24,
   "metadata": {},
   "outputs": [
    {
     "data": {
      "image/png": "[encoded data removed]",
      "text/plain": [
       "<Figure size 864x432 with 2 Axes>"
      ]
     },
     "metadata": {
      "needs_background": "light"
     },
     "output_type": "display_data"
    }
   ],
   "source": [
    "import numpy as np \n",
    "import scipy.stats as stats\n",
    "import matplotlib.pyplot as plt\n",
    "\n",
    "plt.rcParams['figure.figsize'] = [12, 6]\n",
    "\n",
    "mu, sigma = 10, 4\n",
    "n = 1000 # с ростом числа точек в распределении qq-plot стремится к прямой\n",
    "sequence = np.random.normal(mu, sigma, n)\n",
    "\n",
    "\n",
    "fig, (ax1, ax2) = plt.subplots(1, 2)\n",
    "fig.suptitle('QQ Plot', fontsize=18)\n",
    "\n",
    "# Q-Q Plot graph\n",
    "stats.probplot(sequence, dist=\"norm\", plot=ax1)\n",
    "ax1.set_title(\"Normal Q-Q Plot\")\n",
    "\n",
    "# normal distribution histogram + distribution\n",
    "count, bins, _ = ax2.hist(sequence, 25, density=True)\n",
    "p_x = 1/(sigma * np.sqrt(2 * np.pi)) * np.exp( - (bins - mu)**2 / (2 * sigma**2) )\n",
    "ax2.plot(bins, p_x, color='r')\n",
    " \n",
    "\n",
    "plt.show()"
   ]
  },
  {
   "cell_type": "markdown",
   "metadata": {},
   "source": [
    "Однофакторный дисперсионный анализ\n",
    "\n",
    "Рассмотренный ранее t-критерий Стьюдента (равно как и его непараметрические аналоги) предназначен для сравнения исключительно двух совокупностей. В таком случае мы можем применять однофакторный дисперсионный анализ. Та переменная, которая будет разделять наших испытуемых или наблюдения на группы (номинативная переменная с нескольким градациями) называется независимой переменной. А та количественная переменная, по степени выраженности которой мы сравниваем группы, называется зависимая переменная.\n",
    "\n",
    "SStotal=∑j=1p∑i=1nj(xij−x¯)2=SSbetween+SSwithin\n",
    "SSbetween=∑j=1pnj(x¯j−x¯)2\n",
    "SSwithin=∑j=1p∑i=1nj(xij−x¯j)2"
   ]
  },
  {
   "cell_type": "code",
   "execution_count": 25,
   "metadata": {},
   "outputs": [
    {
     "name": "stdout",
     "output_type": "stream",
     "text": [
      "Нулевая гипотеза: a=b=c\n",
      "Альтернативная гипотеза: !(a=b=c)\n",
      "Результат:\n",
      "отклоняем нулевую гипотезу\n"
     ]
    },
    {
     "data": {
      "image/png": "[encoded data removed]",
      "text/plain": [
       "<Figure size 864x432 with 1 Axes>"
      ]
     },
     "metadata": {
      "needs_background": "light"
     },
     "output_type": "display_data"
    }
   ],
   "source": [
    "from scipy import stats\n",
    "import pandas as pd\n",
    "\n",
    "# Выборки которые надо сравнить\n",
    "data = pd.DataFrame({\n",
    "           'a': [3, 1, 2],\n",
    "           'b': [5, 3, 4],\n",
    "           'c': [7, 6, 5]\n",
    "          })\n",
    "data.boxplot()\n",
    "print('Нулевая гипотеза:', '='.join(data))\n",
    "print('Альтернативная гипотеза:', f'!({\"=\".join(data)})')\n",
    "# общая средняя\n",
    "grand_mean = data.values.flatten().mean()\n",
    "# отклонение групповых средний от общей средней\n",
    "ssb = sum(data[group].size * (group_mean - grand_mean)**2  for group, group_mean in data.mean().items())\n",
    "# отклонения значений в внутри группы от средней группы\n",
    "ssw = sum(sum((x - group_mean)**2 for x in data[group]) for group, group_mean in data.mean().items())\n",
    "\n",
    "groups = data.shape[1]\n",
    "dfb = groups - 1\n",
    "dfw = data.size - groups\n",
    "# межгрупповой средний квадрат  \n",
    "mssb = ssb/dfb\n",
    "# внутригрупповой средний квадрат\n",
    "mssw = ssw/dfw\n",
    "\n",
    "f_value = mssb/mssw\n",
    "\n",
    "p = stats.f.sf(f_value, dfb, dfw)\n",
    "print('Результат:')\n",
    "if p < 0.05:\n",
    "    print('отклоняем нулевую гипотезу')\n",
    "else:\n",
    "    print('НЕ отклоняем нулевую гипотезу')"
   ]
  },
  {
   "cell_type": "markdown",
   "metadata": {},
   "source": [
    "Множественные сравнения в ANOVA\n",
    "\n",
    "В отличие от t-критерия, позволяет сравнивать средние значения трёх и более групп. Разработан Р. Фишером для анализа результатов экспериментальных исследований. В литературе также встречается обозначение ANOVA (от англ. ANalysis Of VAriance) - дисперсионный анализ\n",
    "\n",
    "почему мы не можем применить t-критерий для более двух выборок\n",
    "применяя его попарно к каждой выбрке\n",
    "\n",
    "Чтобы выяснить это, сделаем эксперемент."
   ]
  },
  {
   "cell_type": "code",
   "execution_count": 26,
   "metadata": {},
   "outputs": [],
   "source": [
    "import numpy as np\n",
    "from numpy import random\n",
    "import matplotlib.pyplot as plt\n",
    "from scipy.stats import t\n",
    "\n",
    "\n",
    "def pair_t(samples, alpha):\n",
    "    '''Парный t-критерий, если все выборки равны, возвращает True'''\n",
    "    n_samples = samples.shape[0]\n",
    "    # https://ru.wikipedia.org/wiki/Сочетание    \n",
    "    n_combinations = n_samples*(n_samples - 1)//2\n",
    "    result = np.zeros(n_combinations, dtype=bool)\n",
    "    k = 0\n",
    "    for i in range(n_samples):\n",
    "        for j in range(i+1, n_samples):\n",
    "            N = samples[i].size\n",
    "            std_err = np.sqrt((samples[i].std()**2)/N + (samples[j].std()**2)/N)\n",
    "            t_value = (samples[i].mean() + samples[j].mean())/std_err\n",
    "            p = t.sf(t_value, N-2)\n",
    "            result[k] = p >= alpha\n",
    "            k += 1\n",
    "    return np.all(result)"
   ]
  },
  {
   "cell_type": "code",
   "execution_count": 27,
   "metadata": {},
   "outputs": [],
   "source": [
    "def pair_t_test(repeat, n_samples, sample_size, ax, alpha=0.05):\n",
    "    '''\n",
    "    функция показывает, сколько у нас будет ложных результатов, при парном сравнение множества выборок\n",
    "    с помощью t-критерия\n",
    "    \n",
    "    repeat, n_samples, sample_size = количество повторов, количество выборок в каждом повторе, размер выборки\n",
    "    \n",
    "    ax - для рисования\n",
    "    alpha = (1 - (p-уровень значимости))\n",
    "    '''\n",
    "    result = np.zeros(repeat, dtype=bool)\n",
    "    for i in range(repeat):\n",
    "        samples = random.randn(n_samples, sample_size)\n",
    "        result[i] = pair_t(samples, alpha)\n",
    "    \n",
    "    unique, counts = np.unique(result, return_counts=True)\n",
    "    percentage = counts/result.size\n",
    "    ax.pie(percentage, normalize=False, labels=unique, autopct='%.0f%%')"
   ]
  },
  {
   "cell_type": "code",
   "execution_count": 28,
   "metadata": {},
   "outputs": [
    {
     "data": {
      "image/png": "[encoded data removed]",
      "text/plain": [
       "<Figure size 1440x288 with 4 Axes>"
      ]
     },
     "metadata": {},
     "output_type": "display_data"
    }
   ],
   "source": [
    "fig, axs = plt.subplots(ncols=4, figsize=(20, 4))\n",
    "n_samples = [2, 4, 8, 16]\n",
    "fig.suptitle('Процент ошибок при попарном сравнение выборок t-критерием')\n",
    "\n",
    "for n, ax in zip(n_samples, axs):\n",
    "    pair_t_test(1000, n, 100, ax)\n",
    "    ax.set_title(f'{n} samples')"
   ]
  },
  {
   "cell_type": "markdown",
   "metadata": {},
   "source": [
    "Как мы и ожидаем, степень ошибки равна 5%, при сравнение двух выборок из одной ГС с помощью t-критерия с p-уровнем значимости 95%. Если мы возмём 4 выборки, и сравним их попарно, то ошибка возрастёт в 4 раза до 20%. При 8 выборок, наша ошибка возрасла почти в 9 раз до 46%. 16 выборок дают увеличение ошибки до 80% ( в 16 раз), что совершенно неприемлемо."
   ]
  },
  {
   "cell_type": "code",
   "execution_count": 29,
   "metadata": {},
   "outputs": [
    {
     "data": {
      "image/png": "[encoded data removed]",
      "text/plain": [
       "<Figure size 1440x288 with 4 Axes>"
      ]
     },
     "metadata": {},
     "output_type": "display_data"
    }
   ],
   "source": [
    "fig, axs = plt.subplots(ncols=4, figsize=(20, 4))\n",
    "n_samples = [2, 4, 8, 16]\n",
    "fig.suptitle('Процент ошибок при попарном сравнение выборок t-критерием с корректировкой уровня значимости')\n",
    "\n",
    "for n, ax in zip(n_samples, axs):\n",
    "    alpha = 0.05/((n*(n-1))/2)\n",
    "    pair_t_test(1000, n, 100, ax, alpha)\n",
    "    ax.set_title(f'{n} samples')"
   ]
  },
  {
   "cell_type": "markdown",
   "metadata": {},
   "source": [
    "Однако в данном случае эта будет арх-консервативная корректировавка, которая имеет меньше вероятность найти реальные значения. По сути мы уменьшаем шанс получить ошибку I рода, но увеличиваем шанс на ошибку II рода."
   ]
  },
  {
   "cell_type": "markdown",
   "metadata": {},
   "source": [
    "Часть 3\n",
    "\n",
    "\n",
    "Корреляция\n",
    "\n",
    "Ковариация\n",
    "\n",
    "(ко - совместная, вариация - изменчивость). Мера линейной зависимости двух случайных величин.\n",
    "\n",
    "Если ковариация положительна, то с ростом значений одной случайной величины, значения второй имеют тенденцию возрастать, а если знак отрицательный — то убывать.\n",
    "\n",
    "cov(X,Y)=∑(xi−x¯)(yi−x¯)N−1\n",
    "где N - количество случайных величин, а единица - количество степеней свободы.\n",
    "\n",
    "Однако только по абсолютному значению ковариации нельзя судить о том, насколько сильно величины взаимосвязаны, так как масштаб ковариации зависит от их дисперсий. Значение ковариации можно нормировать, поделив её на произведение среднеквадратических отклонений (квадратных корней из дисперсий) случайных величин. Полученная величина называется коэффициентом корреляции Пирсона, который всегда находится в интервале от −1 до 1:\n",
    "\n",
    "r(x,y)=cov(x,y)σxσy\n",
    "Подробнее про формулу корреляции\n",
    "Давайте остановимся на формуле коэффициента корреляции, которую мы получили:\n",
    "r(x,y)=cov(x,y)σxσy\n",
    "запишем формулу чуть подробнее и выполним возможные преобразования:\n",
    "\n",
    "r(x,y)=∑(xi−x¯)(yi−y¯)(N−1)∑(xi−x¯)2N−1−−−−−−−−√∑(yi−y¯)2N−1−−−−−−−−√\n",
    "теперь вынесем 1/ (N - 1) из под корней\n",
    "\n",
    "r(x,y)=∑(xi−x¯)(yi−y¯)(N−1)1(N−1)∑(xi−x¯)2−−−−−−−−−−√∑(yi−y¯)2−−−−−−−−−−√\n",
    "и сократим (N - 1)\n",
    "\n",
    "r(x,y)=∑(xi−x¯)(yi−y¯)∑(xi−x¯)2−−−−−−−−−−√∑(yi−y¯)2−−−−−−−−−−√\n",
    "таким образом, мы сократили N - 1 в знаменателе и получили финальную формулу для коэффициента корреляции, которую вы часто сможете встретить в учебниках:\n",
    "\n",
    "r(x,y)=∑(xi−x¯)(yi−y¯)∑(xi−x¯)2∑(yi−y¯)2−−−−−−−−−−−−−−−−−−−√\n",
    "Примеры 3.1"
   ]
  },
  {
   "cell_type": "code",
   "execution_count": 30,
   "metadata": {},
   "outputs": [
    {
     "name": "stdout",
     "output_type": "stream",
     "text": [
      "-1.0\n"
     ]
    }
   ],
   "source": [
    "from scipy.stats import stats\n",
    "\n",
    "A = \"\"\"X Y\n",
    "4 2\n",
    "5 1\n",
    "2 4\n",
    "3 3\n",
    "1 5\"\"\"\n",
    "\n",
    "x, y = [], []\n",
    "\n",
    "[(x.append(int(a[0])), y.append(int(a[2]))) for a in A.split('\\n') if a[0].isdigit()]\n",
    "\n",
    "print(stats.pearsonr(x,y)[0])"
   ]
  }
 ],
 "metadata": {
  "kernelspec": {
   "display_name": "Python 3.9.12 ('base')",
   "language": "python",
   "name": "python3"
  },
  "language_info": {
   "codemirror_mode": {
    "name": "ipython",
    "version": 3
   },
   "file_extension": ".py",
   "mimetype": "text/x-python",
   "name": "python",
   "nbconvert_exporter": "python",
   "pygments_lexer": "ipython3",
   "version": "3.9.12"
  },
  "orig_nbformat": 4,
  "vscode": {
   "interpreter": {
    "hash": "452c276e810072ac0d070a9ecbd74ba181ab2f9a45b11b5d9d043df0d8e763c9"
   }
  }
 },
 "nbformat": 4,
 "nbformat_minor": 2
}
